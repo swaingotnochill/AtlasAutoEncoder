{
  "nbformat": 4,
  "nbformat_minor": 0,
  "metadata": {
    "colab": {
      "name": "CERNAtlasAutoEncoder_LeakyReLU.ipynb",
      "provenance": [],
      "authorship_tag": "ABX9TyOg4EQzD86C2dsu36Pvbw66",
      "include_colab_link": true
    },
    "kernelspec": {
      "name": "python3",
      "display_name": "Python 3"
    },
    "accelerator": "GPU"
  },
  "cells": [
    {
      "cell_type": "markdown",
      "metadata": {
        "id": "view-in-github",
        "colab_type": "text"
      },
      "source": [
        "<a href=\"https://colab.research.google.com/github/swaingotnochill/AtlasAutoEncoder/blob/main/CERNAtlasAutoEncoder_LeakyReLU.ipynb\" target=\"_parent\"><img src=\"https://colab.research.google.com/assets/colab-badge.svg\" alt=\"Open In Colab\"/></a>"
      ]
    },
    {
      "cell_type": "code",
      "metadata": {
        "colab": {
          "base_uri": "https://localhost:8080/",
          "height": 35
        },
        "id": "3WH2DiB4nksw",
        "outputId": "23359dbc-8054-4a7b-aa2e-5c896cacf086"
      },
      "source": [
        "import fastai\n",
        "fastai.__version__\n",
        "\n",
        "#Note: We are using fastai version 1.0.61"
      ],
      "execution_count": null,
      "outputs": [
        {
          "output_type": "execute_result",
          "data": {
            "application/vnd.google.colaboratory.intrinsic+json": {
              "type": "string"
            },
            "text/plain": [
              "'1.0.61'"
            ]
          },
          "metadata": {
            "tags": []
          },
          "execution_count": 2
        }
      ]
    },
    {
      "cell_type": "markdown",
      "metadata": {
        "id": "bZbBzELXvemX"
      },
      "source": [
        "#IMPORTING DEPENDENCIES\n",
        "\n",
        "\n",
        "\n"
      ]
    },
    {
      "cell_type": "code",
      "metadata": {
        "id": "P9lKPWEzt3go"
      },
      "source": [
        "import numpy as np\n",
        "import pandas as pd\n",
        "\n",
        "from sklearn.decomposition import TruncatedSVD\n",
        "\n",
        "import torch\n",
        "import torch.nn as nn\n",
        "import matplotlib.pyplot as plt\n",
        "from torch.utils.data import TensorDataset\n",
        "from torch.utils.data import DataLoader\n",
        "\n",
        "from fastai import basic_train, basic_data, train as Train\n",
        "from fastai.basic_data import DatasetType\n",
        "\n",
        "\n",
        "import matplotlib as mpl\n",
        "import matplotlib.pyplot as plt"
      ],
      "execution_count": null,
      "outputs": []
    },
    {
      "cell_type": "markdown",
      "metadata": {
        "id": "DErdui2Fvkrn"
      },
      "source": [
        "#DATA UPLOAD\n",
        "> I am using a simple files upload here."
      ]
    },
    {
      "cell_type": "code",
      "metadata": {
        "id": "CU_KMVqiu8uL",
        "colab": {
          "resources": {
            "http://localhost:8080/nbextensions/google.colab/files.js": {
              "data": "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",
              "ok": true,
              "headers": [
                [
                  "content-type",
                  "application/javascript"
                ]
              ],
              "status": 200,
              "status_text": ""
            }
          },
          "base_uri": "https://localhost:8080/",
          "height": 72
        },
        "outputId": "b4c5b918-ef8b-4afc-b473-a5dbcb7f620c"
      },
      "source": [
        "from google.colab import files\n",
        "uploaded = files.upload()"
      ],
      "execution_count": null,
      "outputs": [
        {
          "output_type": "display_data",
          "data": {
            "text/html": [
              "\n",
              "     <input type=\"file\" id=\"files-14ab271b-ee19-40f6-b39d-40f066c0359f\" name=\"files[]\" multiple disabled\n",
              "        style=\"border:none\" />\n",
              "     <output id=\"result-14ab271b-ee19-40f6-b39d-40f066c0359f\">\n",
              "      Upload widget is only available when the cell has been executed in the\n",
              "      current browser session. Please rerun this cell to enable.\n",
              "      </output>\n",
              "      <script src=\"/nbextensions/google.colab/files.js\"></script> "
            ],
            "text/plain": [
              "<IPython.core.display.HTML object>"
            ]
          },
          "metadata": {
            "tags": []
          }
        },
        {
          "output_type": "stream",
          "text": [
            "Saving monojet_Zp2000.0_DM_50.0_chan3.csv to monojet_Zp2000.0_DM_50.0_chan3.csv\n"
          ],
          "name": "stdout"
        }
      ]
    },
    {
      "cell_type": "markdown",
      "metadata": {
        "id": "rKV8301_v6FH"
      },
      "source": [
        "#PREPROCESSING\n",
        "> The data provided has delimiter (' ; '). \n",
        "> It also contains multiple jet events in one line.\n",
        "> Hence we first clean and adjust data with accordance to four-momentum particles ( E, phi, eta, pt)."
      ]
    },
    {
      "cell_type": "code",
      "metadata": {
        "id": "zSLeWTluvcW7"
      },
      "source": [
        "import csv\n",
        "from csv import reader\n",
        "from sklearn.model_selection import train_test_split\n",
        "\n",
        "\n",
        "list = []\n",
        "with open('/content/monojet_Zp2000.0_DM_50.0_chan3.csv') as read_obj:\n",
        "  csv_reader = reader(read_obj, delimiter = ';', skipinitialspace = True, quotechar = ',')\n",
        "  for row in csv_reader:\n",
        "    list.append(row)\n",
        "\n",
        "data = []\n",
        "for i in range(len(list)):\n",
        "  for rows in list[i]:\n",
        "    test = rows.split(',')\n",
        "    if(len(test) == 5):\n",
        "      data.append(test)\n",
        "\n",
        "column_name = ['obj','E','pt','eta','phi']\n",
        "dataframe = pd.DataFrame(data, columns = column_name)\n",
        "dataframe_copy = dataframe.copy(deep = True)\n",
        "jetData = dataframe_copy.loc[dataframe_copy['obj'] == 'j'].reset_index(drop=True)\n",
        "\n",
        "float_column = ['E','pt','eta','phi']\n",
        "for i in float_column:\n",
        "  jetData[i] = jetData[i].astype(float)\n",
        "\n",
        "dataset = jetData.drop(['obj'], axis = 1)\n",
        "\n",
        "\n",
        "train, test = train_test_split(dataset, test_size = 0.2, random_state = 42)\n"
      ],
      "execution_count": null,
      "outputs": []
    },
    {
      "cell_type": "code",
      "metadata": {
        "id": "W7nb5hza_edc"
      },
      "source": [
        "#Downloading the processed data (just in case, of any use):\n",
        "from IPython.display import FileLink, FileLinks\n",
        "\n",
        "train.to_csv('/content/train.csv', index=False)\n",
        "\n",
        "test.to_csv('/content/test.csv', index=False)\n"
      ],
      "execution_count": 79,
      "outputs": []
    },
    {
      "cell_type": "code",
      "metadata": {
        "colab": {
          "base_uri": "https://localhost:8080/"
        },
        "id": "XxpfGLPPys-9",
        "outputId": "25bff277-8dd8-4099-c4dd-f62ef50a5a49"
      },
      "source": [
        "train.info()"
      ],
      "execution_count": null,
      "outputs": [
        {
          "output_type": "stream",
          "text": [
            "<class 'pandas.core.frame.DataFrame'>\n",
            "Int64Index: 18128 entries, 1047 to 15795\n",
            "Data columns (total 4 columns):\n",
            " #   Column  Non-Null Count  Dtype  \n",
            "---  ------  --------------  -----  \n",
            " 0   E       18128 non-null  float64\n",
            " 1   pt      18128 non-null  float64\n",
            " 2   eta     18128 non-null  float64\n",
            " 3   phi     18128 non-null  float64\n",
            "dtypes: float64(4)\n",
            "memory usage: 708.1 KB\n"
          ],
          "name": "stdout"
        }
      ]
    },
    {
      "cell_type": "code",
      "metadata": {
        "colab": {
          "base_uri": "https://localhost:8080/",
          "height": 297
        },
        "id": "y5s27YFgyv1C",
        "outputId": "ff41c68e-1111-475f-8b94-fc2d04a409e0"
      },
      "source": [
        "train.describe()"
      ],
      "execution_count": null,
      "outputs": [
        {
          "output_type": "execute_result",
          "data": {
            "text/html": [
              "<div>\n",
              "<style scoped>\n",
              "    .dataframe tbody tr th:only-of-type {\n",
              "        vertical-align: middle;\n",
              "    }\n",
              "\n",
              "    .dataframe tbody tr th {\n",
              "        vertical-align: top;\n",
              "    }\n",
              "\n",
              "    .dataframe thead th {\n",
              "        text-align: right;\n",
              "    }\n",
              "</style>\n",
              "<table border=\"1\" class=\"dataframe\">\n",
              "  <thead>\n",
              "    <tr style=\"text-align: right;\">\n",
              "      <th></th>\n",
              "      <th>E</th>\n",
              "      <th>pt</th>\n",
              "      <th>eta</th>\n",
              "      <th>phi</th>\n",
              "    </tr>\n",
              "  </thead>\n",
              "  <tbody>\n",
              "    <tr>\n",
              "      <th>count</th>\n",
              "      <td>1.812800e+04</td>\n",
              "      <td>1.812800e+04</td>\n",
              "      <td>18128.000000</td>\n",
              "      <td>18128.000000</td>\n",
              "    </tr>\n",
              "    <tr>\n",
              "      <th>mean</th>\n",
              "      <td>4.355335e+05</td>\n",
              "      <td>2.417419e+05</td>\n",
              "      <td>0.014890</td>\n",
              "      <td>-0.013126</td>\n",
              "    </tr>\n",
              "    <tr>\n",
              "      <th>std</th>\n",
              "      <td>4.279418e+05</td>\n",
              "      <td>2.657371e+05</td>\n",
              "      <td>1.499743</td>\n",
              "      <td>1.810871</td>\n",
              "    </tr>\n",
              "    <tr>\n",
              "      <th>min</th>\n",
              "      <td>2.437580e+04</td>\n",
              "      <td>2.208650e+04</td>\n",
              "      <td>-4.870110</td>\n",
              "      <td>-3.141560</td>\n",
              "    </tr>\n",
              "    <tr>\n",
              "      <th>25%</th>\n",
              "      <td>1.176178e+05</td>\n",
              "      <td>4.760157e+04</td>\n",
              "      <td>-0.951571</td>\n",
              "      <td>-1.588512</td>\n",
              "    </tr>\n",
              "    <tr>\n",
              "      <th>50%</th>\n",
              "      <td>2.927205e+05</td>\n",
              "      <td>1.227590e+05</td>\n",
              "      <td>0.011900</td>\n",
              "      <td>-0.004561</td>\n",
              "    </tr>\n",
              "    <tr>\n",
              "      <th>75%</th>\n",
              "      <td>6.254612e+05</td>\n",
              "      <td>3.653140e+05</td>\n",
              "      <td>0.984084</td>\n",
              "      <td>1.534535</td>\n",
              "    </tr>\n",
              "    <tr>\n",
              "      <th>max</th>\n",
              "      <td>4.413680e+06</td>\n",
              "      <td>2.073990e+06</td>\n",
              "      <td>4.753080</td>\n",
              "      <td>3.141210</td>\n",
              "    </tr>\n",
              "  </tbody>\n",
              "</table>\n",
              "</div>"
            ],
            "text/plain": [
              "                  E            pt           eta           phi\n",
              "count  1.812800e+04  1.812800e+04  18128.000000  18128.000000\n",
              "mean   4.355335e+05  2.417419e+05      0.014890     -0.013126\n",
              "std    4.279418e+05  2.657371e+05      1.499743      1.810871\n",
              "min    2.437580e+04  2.208650e+04     -4.870110     -3.141560\n",
              "25%    1.176178e+05  4.760157e+04     -0.951571     -1.588512\n",
              "50%    2.927205e+05  1.227590e+05      0.011900     -0.004561\n",
              "75%    6.254612e+05  3.653140e+05      0.984084      1.534535\n",
              "max    4.413680e+06  2.073990e+06      4.753080      3.141210"
            ]
          },
          "metadata": {
            "tags": []
          },
          "execution_count": 76
        }
      ]
    },
    {
      "cell_type": "markdown",
      "metadata": {
        "id": "Ti62xjWiwfPN"
      },
      "source": [
        "#NORMALIZATION\n",
        "> Making the inputs having a mean of 0 and a standard deviation of 1. This makes the data scaled fixes the outliers in the data and makes the learning process much easier, smoother, and faster for the computer."
      ]
    },
    {
      "cell_type": "code",
      "metadata": {
        "id": "sEkYRLQR3MpZ"
      },
      "source": [
        "# from sklearn.pipeline import Pipeline\n",
        "# from sklearn.preprocessing import StandardScaler\n",
        "\n",
        "train_mean = train.mean()\n",
        "train_std = train.std()\n",
        "\n",
        "train_data = (train - train_mean) / train_std\n",
        "test_data = (test - train_mean) / train_std\n",
        "\n",
        "train_x = train_data\n",
        "test_x = test_data\n",
        "\n",
        "# this is to check whether how close encoder data is compared to decoder data\n",
        "train_y = train_x\n",
        "test_y = test_x"
      ],
      "execution_count": null,
      "outputs": []
    },
    {
      "cell_type": "markdown",
      "metadata": {
        "id": "CPzO6-_cxFB1"
      },
      "source": [
        "#Singlar Value Decomposition\n",
        "Singular value decomposition (SVD) is a mathematical process (basically matrix operations) to factorize a matrix into a lower dimension of our choice. SVD basically decomposes our matrix into 3 smaller matrices. One of them contains the singular values of the original matrix. I also tried concatenating different combinations of those 3 matrices with the original data but only singular values worked better than every other combination. \n",
        "\n",
        "\n",
        "So what we will do is we will first construct a (4 x 4) diagonal matrix from those 4 variables (Those 4 numbers will sit on the diagonal positions of the matrix). And we will feed that matrix to express that matrix in 3 components (3 because we want to compress our variables into 3). That will return us 3 matrices. But using only the singular values(data from only one matrix, which is only 3 numbers, the diagonal elements of that matrix) turned out to be performing the best for me."
      ]
    },
    {
      "cell_type": "code",
      "metadata": {
        "id": "L1SbF5djwCBa"
      },
      "source": [
        "svd = TruncatedSVD(n_components=3)\n",
        "\n",
        "def add_singular_values(df1):\n",
        "\n",
        "    df_svd= df1.copy() # make a copy of the data\n",
        "    sing_vals = []\n",
        "\n",
        "    # compute and append the singular values into list sing_vals for each data entry\n",
        "    for i in range(len(df_svd)):\n",
        "        a = np.diag(df_svd.iloc[i])\n",
        "        svd.fit(a)\n",
        "        sing_vals.append(svd.singular_values_)\n",
        "\n",
        "    # add the singular values into DataFrame\n",
        "    for i in range(3):\n",
        "        df_svd.insert(len(df_svd.columns), f'sv_{i}', np.array(sing_vals)[:,i])\n",
        "\n",
        "    return df_svd\n",
        "\n"
      ],
      "execution_count": null,
      "outputs": []
    },
    {
      "cell_type": "code",
      "metadata": {
        "id": "uMCBZxScbbDu"
      },
      "source": [
        "train_df = add_singular_values(train_x)\n",
        "test_df = add_singular_values(test_x)"
      ],
      "execution_count": null,
      "outputs": []
    },
    {
      "cell_type": "markdown",
      "metadata": {
        "id": "zVQu74c4xzcl"
      },
      "source": [
        "> Note when I run train_df.shape, it has 7 features. Now, you might think we are increasing the features rather than decreasing. This is because we are adding singular values to our dataframe. But, when we feed this into our deep AutoEncoder, it will improve the architecture much more."
      ]
    },
    {
      "cell_type": "code",
      "metadata": {
        "colab": {
          "base_uri": "https://localhost:8080/"
        },
        "id": "bVEfnILPCgME",
        "outputId": "52eb007b-74bd-4a1b-f45b-5fa4a6eacbc0"
      },
      "source": [
        "train_df.shape"
      ],
      "execution_count": null,
      "outputs": [
        {
          "output_type": "execute_result",
          "data": {
            "text/plain": [
              "(18128, 7)"
            ]
          },
          "metadata": {
            "tags": []
          },
          "execution_count": 73
        }
      ]
    },
    {
      "cell_type": "markdown",
      "metadata": {
        "id": "CH-_qb2Myof-"
      },
      "source": [
        "#DATA VISUALIZATION"
      ]
    },
    {
      "cell_type": "code",
      "metadata": {
        "colab": {
          "base_uri": "https://localhost:8080/",
          "height": 1000
        },
        "id": "9rfcE1Ttw6rl",
        "outputId": "930da595-33f2-4e8e-fa5c-d5b2b53481c6"
      },
      "source": [
        "import matplotlib.pyplot as plt\n",
        "\n",
        "unit_list = ['[log(GeV)]', '[rad/3]', '[rad/3]', '[log(GeV)]']\n",
        "variable_list = [r'$p_T$', r'$\\eta$', r'$\\phi$', r'$m$']\n",
        "\n",
        "branches=[\"pt\",\"eta\",\"phi\",\"E\"]\n",
        "\n",
        "n_bins = 100\n",
        "\n",
        "for kk in range(0,4):\n",
        "    n_hist_data, bin_edges, _ = plt.hist(train[branches[kk]], color='gray', label='Input', alpha=1, bins=n_bins)\n",
        "    plt.xlabel(xlabel=variable_list[kk] + ' ' + unit_list[kk])\n",
        "    plt.ylabel('# of events')\n",
        "    #plt.savefig(\"fourmomentum_\"+branches[kk],dpi=300)\n",
        "    plt.show()"
      ],
      "execution_count": null,
      "outputs": [
        {
          "output_type": "display_data",
          "data": {
            "image/png": "[encoded data removed]",
            "text/plain": [
              "<Figure size 432x288 with 1 Axes>"
            ]
          },
          "metadata": {
            "tags": [],
            "needs_background": "light"
          }
        },
        {
          "output_type": "display_data",
          "data": {
            "image/png": "[encoded data removed]",
            "text/plain": [
              "<Figure size 432x288 with 1 Axes>"
            ]
          },
          "metadata": {
            "tags": [],
            "needs_background": "light"
          }
        },
        {
          "output_type": "display_data",
          "data": {
            "image/png": "[encoded data removed]",
            "text/plain": [
              "<Figure size 432x288 with 1 Axes>"
            ]
          },
          "metadata": {
            "tags": [],
            "needs_background": "light"
          }
        },
        {
          "output_type": "display_data",
          "data": {
            "image/png": "[encoded data removed]",
            "text/plain": [
              "<Figure size 432x288 with 1 Axes>"
            ]
          },
          "metadata": {
            "tags": [],
            "needs_background": "light"
          }
        }
      ]
    },
    {
      "cell_type": "code",
      "metadata": {
        "colab": {
          "base_uri": "https://localhost:8080/",
          "height": 1000
        },
        "id": "VVx5LJufmn6o",
        "outputId": "adb368ed-6521-44ff-84fe-5f83014d919d"
      },
      "source": [
        "variable_list = ['E',r'$p_T$', r'$\\eta$', r'$\\phi$']\n",
        "branches=[\"E\",\"pt\",\"eta\",\"phi\"]\n",
        "\n",
        "for kk in range(0,4):\n",
        "    n_boxplot_data = plt.boxplot(train[branches[kk]])\n",
        "    plt.title(\"Data of \"+variable_list[kk])\n",
        "    plt.show()\n",
        "    "
      ],
      "execution_count": null,
      "outputs": [
        {
          "output_type": "display_data",
          "data": {
            "image/png": "[encoded data removed]",
            "text/plain": [
              "<Figure size 432x288 with 1 Axes>"
            ]
          },
          "metadata": {
            "tags": [],
            "needs_background": "light"
          }
        },
        {
          "output_type": "display_data",
          "data": {
            "image/png": "[encoded data removed]",
            "text/plain": [
              "<Figure size 432x288 with 1 Axes>"
            ]
          },
          "metadata": {
            "tags": [],
            "needs_background": "light"
          }
        },
        {
          "output_type": "display_data",
          "data": {
            "image/png": "[encoded data removed]",
            "text/plain": [
              "<Figure size 432x288 with 1 Axes>"
            ]
          },
          "metadata": {
            "tags": [],
            "needs_background": "light"
          }
        },
        {
          "output_type": "display_data",
          "data": {
            "image/png": "[encoded data removed]",
            "text/plain": [
              "<Figure size 432x288 with 1 Axes>"
            ]
          },
          "metadata": {
            "tags": [],
            "needs_background": "light"
          }
        }
      ]
    },
    {
      "cell_type": "markdown",
      "metadata": {
        "id": "CtTWElNGzBTz"
      },
      "source": [
        "#PREPARATION OF DATABUNCH\n",
        "\n",
        "---\n",
        "> We need to convert dataframe object into tensor and then prepare a databunch for further training. \n",
        "> NOTE: Here, instead of creating a train, validation and test set, I used the test set as validation set, so we can have more data to train, thus improve the efficiency of model. \n",
        "\n",
        "I earlier tried creating 3 different set, but in the final model didn't create a test set to have more data. Eventually, when the supervisor checks, they can try with fresh test data and the residual loss will be very less. "
      ]
    },
    {
      "cell_type": "code",
      "metadata": {
        "id": "kDHT5X87w8vY",
        "colab": {
          "base_uri": "https://localhost:8080/"
        },
        "outputId": "c92f3bd6-b84f-4a5b-8195-d6711c6d313c"
      },
      "source": [
        "train_ds = TensorDataset(torch.tensor(train_df.values).float(), torch.tensor(train_y.values).float())\n",
        "valid_ds = TensorDataset(torch.tensor(test_df.values).float(), torch.tensor(test_y.values).float())\n",
        "bs = 256 # batch size\n",
        "\n",
        "train_dl = DataLoader(train_ds, batch_size=bs, shuffle=True, num_workers=3, pin_memory=True)\n",
        "valid_dl = DataLoader(valid_ds, batch_size=bs * 2, num_workers=3, pin_memory = True)"
      ],
      "execution_count": null,
      "outputs": [
        {
          "output_type": "stream",
          "text": [
            "/usr/local/lib/python3.7/dist-packages/torch/utils/data/dataloader.py:477: UserWarning: This DataLoader will create 3 worker processes in total. Our suggested max number of worker in current system is 2, which is smaller than what this DataLoader is going to create. Please be aware that excessive worker creation might get DataLoader running slow or even freeze, lower the worker number to avoid potential slowness/freeze if necessary.\n",
            "  cpuset_checked))\n"
          ],
          "name": "stderr"
        }
      ]
    },
    {
      "cell_type": "code",
      "metadata": {
        "id": "ghl99uZbgZ6p",
        "colab": {
          "base_uri": "https://localhost:8080/"
        },
        "outputId": "fa92d7da-1dfb-468f-a804-f13737e4b0c5"
      },
      "source": [
        "databunch = basic_data.DataBunch(train_dl, valid_dl)"
      ],
      "execution_count": null,
      "outputs": [
        {
          "output_type": "stream",
          "text": [
            "/usr/local/lib/python3.7/dist-packages/torch/utils/data/dataloader.py:477: UserWarning: This DataLoader will create 3 worker processes in total. Our suggested max number of worker in current system is 2, which is smaller than what this DataLoader is going to create. Please be aware that excessive worker creation might get DataLoader running slow or even freeze, lower the worker number to avoid potential slowness/freeze if necessary.\n",
            "  cpuset_checked))\n"
          ],
          "name": "stderr"
        }
      ]
    },
    {
      "cell_type": "markdown",
      "metadata": {
        "id": "GmcdzV3y0s8o"
      },
      "source": [
        "#MODEL DEFINITION\n",
        "The model used is non-linear by introducing tanh() activation function between layers. \n",
        ">It is 7 layer network for both encoder and decoder. \n",
        "> The Model description is as follows: 'in-200-200-20-3-20-200-200-out'\n",
        "\n",
        "\n",
        "NOTE: We should not use very deep neural networks as more layers means more weights associated. Hence, when we reconstruct, residual loss will be more. \n",
        "\n",
        ">I also tried a different model with a linear, batchnorm and tanh activation layer, but the given model worked much better compared to that one. \n",
        "\n"
      ]
    },
    {
      "cell_type": "code",
      "metadata": {
        "id": "IZVAsMpSzsuJ",
        "colab": {
          "base_uri": "https://localhost:8080/"
        },
        "outputId": "de46f61d-cf52-4f7d-90d2-db2c62d6d3e2"
      },
      "source": [
        "#Model LeakyReLU\n",
        "class AE_3D_200_LeakyReLU(nn.Module):\n",
        "    def __init__(self, n_features=3):\n",
        "        super(AE_3D_200_LeakyReLU, self).__init__()\n",
        "        self.en1 = nn.Linear(7, 200)          #We used SVD, hence it is 7 instead of 4\n",
        "        self.en2 = nn.Linear(200, 200)\n",
        "        self.en3 = nn.Linear(200, 20)\n",
        "        self.en4 = nn.Linear(20, 3)\n",
        "        self.de1 = nn.Linear(3, 20)\n",
        "        self.de2 = nn.Linear(20, 200)\n",
        "        self.de3 = nn.Linear(200, 200)\n",
        "        self.de4 = nn.Linear(200, 4)\n",
        "        self.tanh = nn.Tanh()\n",
        "\n",
        "    def encode(self, x):\n",
        "        return self.en4(self.tanh(self.en3(self.tanh(self.en2(self.tanh(self.en1(x)))))))\n",
        "\n",
        "    def decode(self, x):\n",
        "        return self.de4(self.tanh(self.de3(self.tanh(self.de2(self.tanh(self.de1(self.tanh(x))))))))\n",
        "\n",
        "    def forward(self, x):\n",
        "        z = self.encode(x)\n",
        "        return self.decode(z)\n",
        "\n",
        "    def describe(self):\n",
        "        return 'in-200-200-20-3-20-200-200-out'\n",
        "\n",
        "#model = AE_3D_200_LeakyReLU().double()\n",
        "model = AE_3D_200_LeakyReLU()\n",
        "model.to('cpu')"
      ],
      "execution_count": null,
      "outputs": [
        {
          "output_type": "execute_result",
          "data": {
            "text/plain": [
              "AE_3D_200_LeakyReLU(\n",
              "  (en1): Linear(in_features=7, out_features=200, bias=True)\n",
              "  (en2): Linear(in_features=200, out_features=200, bias=True)\n",
              "  (en3): Linear(in_features=200, out_features=20, bias=True)\n",
              "  (en4): Linear(in_features=20, out_features=3, bias=True)\n",
              "  (de1): Linear(in_features=3, out_features=20, bias=True)\n",
              "  (de2): Linear(in_features=20, out_features=200, bias=True)\n",
              "  (de3): Linear(in_features=200, out_features=200, bias=True)\n",
              "  (de4): Linear(in_features=200, out_features=4, bias=True)\n",
              "  (tanh): Tanh()\n",
              ")"
            ]
          },
          "metadata": {
            "tags": []
          },
          "execution_count": 25
        }
      ]
    },
    {
      "cell_type": "markdown",
      "metadata": {
        "id": "y-lok_L71spG"
      },
      "source": [
        "#TRAINING\n",
        "\n",
        "This step refers to finally training the model and fine-tuning the parameters to get the best out of the model.\n",
        "I used the Cyclical Learning Rates (CLR) approach. This method lets the learning rate cyclically vary between reasonable boundaries, in order to optimize the training.\n"
      ]
    },
    {
      "cell_type": "code",
      "metadata": {
        "id": "fXAzFbYoePJA"
      },
      "source": [
        "learner = basic_train.Learner\n",
        "learn = Learner(databunch,AE_3D_200_LeakyReLU() , loss_func=nn.MSELoss(), bn_wd=False, true_wd=True)"
      ],
      "execution_count": null,
      "outputs": []
    },
    {
      "cell_type": "code",
      "metadata": {
        "id": "kNcusGD3z5-V"
      },
      "source": [
        "from fastai.metrics import mse\n",
        "loss_func = nn.MSELoss()\n",
        "\n",
        "#bn_wd = False  # Don't use weight decay for batchnorm layers\n",
        "#true_wd = True  # weight decay will be used for all optimizers\n",
        "wd = 1e-6\n",
        "\n",
        "learn = Learner(databunch, model=model, wd=wd, loss_func=loss_func)\n",
        "\n",
        "#was: learn = basic_train.Learner(data=db, model=model, loss_func=loss_func, wd=wd, callback_fns=ActivationStats, bn_wd=bn_wd, true_wd=true_wd)"
      ],
      "execution_count": null,
      "outputs": []
    },
    {
      "cell_type": "code",
      "metadata": {
        "colab": {
          "base_uri": "https://localhost:8080/",
          "height": 197
        },
        "id": "PTei31pkz_KZ",
        "outputId": "3ba09c6c-ad0d-44fc-92a5-63e0a7b0e11a"
      },
      "source": [
        "Train.lr_find(learn)"
      ],
      "execution_count": null,
      "outputs": [
        {
          "output_type": "display_data",
          "data": {
            "text/html": [
              "\n",
              "    <div>\n",
              "        <style>\n",
              "            /* Turns off some styling */\n",
              "            progress {\n",
              "                /* gets rid of default border in Firefox and Opera. */\n",
              "                border: none;\n",
              "                /* Needs to be in here for Safari polyfill so background images work as expected. */\n",
              "                background-size: auto;\n",
              "            }\n",
              "            .progress-bar-interrupted, .progress-bar-interrupted::-webkit-progress-bar {\n",
              "                background: #F44336;\n",
              "            }\n",
              "        </style>\n",
              "      <progress value='1' class='' max='2' style='width:300px; height:20px; vertical-align: middle;'></progress>\n",
              "      50.00% [1/2 00:00<00:00]\n",
              "    </div>\n",
              "    \n",
              "<table border=\"1\" class=\"dataframe\">\n",
              "  <thead>\n",
              "    <tr style=\"text-align: left;\">\n",
              "      <th>epoch</th>\n",
              "      <th>train_loss</th>\n",
              "      <th>valid_loss</th>\n",
              "      <th>time</th>\n",
              "    </tr>\n",
              "  </thead>\n",
              "  <tbody>\n",
              "    <tr>\n",
              "      <td>0</td>\n",
              "      <td>0.758944</td>\n",
              "      <td>#na#</td>\n",
              "      <td>00:00</td>\n",
              "    </tr>\n",
              "  </tbody>\n",
              "</table><p>\n",
              "\n",
              "    <div>\n",
              "        <style>\n",
              "            /* Turns off some styling */\n",
              "            progress {\n",
              "                /* gets rid of default border in Firefox and Opera. */\n",
              "                border: none;\n",
              "                /* Needs to be in here for Safari polyfill so background images work as expected. */\n",
              "                background-size: auto;\n",
              "            }\n",
              "            .progress-bar-interrupted, .progress-bar-interrupted::-webkit-progress-bar {\n",
              "                background: #F44336;\n",
              "            }\n",
              "        </style>\n",
              "      <progress value='5' class='' max='71' style='width:300px; height:20px; vertical-align: middle;'></progress>\n",
              "      7.04% [5/71 00:00<00:02 1.1864]\n",
              "    </div>\n",
              "    "
            ],
            "text/plain": [
              "<IPython.core.display.HTML object>"
            ]
          },
          "metadata": {
            "tags": []
          }
        },
        {
          "output_type": "stream",
          "text": [
            "/usr/local/lib/python3.7/dist-packages/torch/utils/data/dataloader.py:477: UserWarning: This DataLoader will create 3 worker processes in total. Our suggested max number of worker in current system is 2, which is smaller than what this DataLoader is going to create. Please be aware that excessive worker creation might get DataLoader running slow or even freeze, lower the worker number to avoid potential slowness/freeze if necessary.\n",
            "  cpuset_checked))\n"
          ],
          "name": "stderr"
        },
        {
          "output_type": "stream",
          "text": [
            "LR Finder is complete, type {learner_name}.recorder.plot() to see the graph.\n"
          ],
          "name": "stdout"
        }
      ]
    },
    {
      "cell_type": "code",
      "metadata": {
        "colab": {
          "base_uri": "https://localhost:8080/",
          "height": 279
        },
        "id": "h6vCwUtl00gm",
        "outputId": "97572c00-5b7e-4bd1-f8df-1e0e7bfd48cd"
      },
      "source": [
        "learn.recorder.plot()"
      ],
      "execution_count": null,
      "outputs": [
        {
          "output_type": "display_data",
          "data": {
            "image/png": "[encoded data removed]",
            "text/plain": [
              "<Figure size 432x288 with 1 Axes>"
            ]
          },
          "metadata": {
            "tags": [],
            "needs_background": "light"
          }
        }
      ]
    },
    {
      "cell_type": "code",
      "metadata": {
        "colab": {
          "base_uri": "https://localhost:8080/",
          "height": 1000
        },
        "id": "EwrMl5cP1OaM",
        "outputId": "2f8265f2-5f0b-4889-d8e8-a0ab3188915c"
      },
      "source": [
        "learn.fit_one_cycle(150, 1e-3, wd=1e-6)"
      ],
      "execution_count": null,
      "outputs": [
        {
          "output_type": "display_data",
          "data": {
            "text/html": [
              "<table border=\"1\" class=\"dataframe\">\n",
              "  <thead>\n",
              "    <tr style=\"text-align: left;\">\n",
              "      <th>epoch</th>\n",
              "      <th>train_loss</th>\n",
              "      <th>valid_loss</th>\n",
              "      <th>time</th>\n",
              "    </tr>\n",
              "  </thead>\n",
              "  <tbody>\n",
              "    <tr>\n",
              "      <td>0</td>\n",
              "      <td>0.943410</td>\n",
              "      <td>0.876114</td>\n",
              "      <td>00:00</td>\n",
              "    </tr>\n",
              "    <tr>\n",
              "      <td>1</td>\n",
              "      <td>0.724258</td>\n",
              "      <td>0.544263</td>\n",
              "      <td>00:00</td>\n",
              "    </tr>\n",
              "    <tr>\n",
              "      <td>2</td>\n",
              "      <td>0.468481</td>\n",
              "      <td>0.316495</td>\n",
              "      <td>00:00</td>\n",
              "    </tr>\n",
              "    <tr>\n",
              "      <td>3</td>\n",
              "      <td>0.278394</td>\n",
              "      <td>0.166047</td>\n",
              "      <td>00:00</td>\n",
              "    </tr>\n",
              "    <tr>\n",
              "      <td>4</td>\n",
              "      <td>0.177505</td>\n",
              "      <td>0.132326</td>\n",
              "      <td>00:00</td>\n",
              "    </tr>\n",
              "    <tr>\n",
              "      <td>5</td>\n",
              "      <td>0.136653</td>\n",
              "      <td>0.112645</td>\n",
              "      <td>00:00</td>\n",
              "    </tr>\n",
              "    <tr>\n",
              "      <td>6</td>\n",
              "      <td>0.111185</td>\n",
              "      <td>0.094250</td>\n",
              "      <td>00:00</td>\n",
              "    </tr>\n",
              "    <tr>\n",
              "      <td>7</td>\n",
              "      <td>0.093576</td>\n",
              "      <td>0.080458</td>\n",
              "      <td>00:00</td>\n",
              "    </tr>\n",
              "    <tr>\n",
              "      <td>8</td>\n",
              "      <td>0.080061</td>\n",
              "      <td>0.071563</td>\n",
              "      <td>00:00</td>\n",
              "    </tr>\n",
              "    <tr>\n",
              "      <td>9</td>\n",
              "      <td>0.072129</td>\n",
              "      <td>0.063540</td>\n",
              "      <td>00:00</td>\n",
              "    </tr>\n",
              "    <tr>\n",
              "      <td>10</td>\n",
              "      <td>0.060443</td>\n",
              "      <td>0.048044</td>\n",
              "      <td>00:00</td>\n",
              "    </tr>\n",
              "    <tr>\n",
              "      <td>11</td>\n",
              "      <td>0.044789</td>\n",
              "      <td>0.030366</td>\n",
              "      <td>00:00</td>\n",
              "    </tr>\n",
              "    <tr>\n",
              "      <td>12</td>\n",
              "      <td>0.031321</td>\n",
              "      <td>0.021554</td>\n",
              "      <td>00:00</td>\n",
              "    </tr>\n",
              "    <tr>\n",
              "      <td>13</td>\n",
              "      <td>0.024159</td>\n",
              "      <td>0.016605</td>\n",
              "      <td>00:00</td>\n",
              "    </tr>\n",
              "    <tr>\n",
              "      <td>14</td>\n",
              "      <td>0.018072</td>\n",
              "      <td>0.012792</td>\n",
              "      <td>00:00</td>\n",
              "    </tr>\n",
              "    <tr>\n",
              "      <td>15</td>\n",
              "      <td>0.013589</td>\n",
              "      <td>0.009285</td>\n",
              "      <td>00:00</td>\n",
              "    </tr>\n",
              "    <tr>\n",
              "      <td>16</td>\n",
              "      <td>0.010275</td>\n",
              "      <td>0.007183</td>\n",
              "      <td>00:00</td>\n",
              "    </tr>\n",
              "    <tr>\n",
              "      <td>17</td>\n",
              "      <td>0.007942</td>\n",
              "      <td>0.005980</td>\n",
              "      <td>00:00</td>\n",
              "    </tr>\n",
              "    <tr>\n",
              "      <td>18</td>\n",
              "      <td>0.006164</td>\n",
              "      <td>0.003996</td>\n",
              "      <td>00:00</td>\n",
              "    </tr>\n",
              "    <tr>\n",
              "      <td>19</td>\n",
              "      <td>0.004453</td>\n",
              "      <td>0.002926</td>\n",
              "      <td>00:00</td>\n",
              "    </tr>\n",
              "    <tr>\n",
              "      <td>20</td>\n",
              "      <td>0.003269</td>\n",
              "      <td>0.002106</td>\n",
              "      <td>00:00</td>\n",
              "    </tr>\n",
              "    <tr>\n",
              "      <td>21</td>\n",
              "      <td>0.002521</td>\n",
              "      <td>0.001553</td>\n",
              "      <td>00:00</td>\n",
              "    </tr>\n",
              "    <tr>\n",
              "      <td>22</td>\n",
              "      <td>0.001973</td>\n",
              "      <td>0.001147</td>\n",
              "      <td>00:00</td>\n",
              "    </tr>\n",
              "    <tr>\n",
              "      <td>23</td>\n",
              "      <td>0.001805</td>\n",
              "      <td>0.001363</td>\n",
              "      <td>00:00</td>\n",
              "    </tr>\n",
              "    <tr>\n",
              "      <td>24</td>\n",
              "      <td>0.001591</td>\n",
              "      <td>0.000965</td>\n",
              "      <td>00:00</td>\n",
              "    </tr>\n",
              "    <tr>\n",
              "      <td>25</td>\n",
              "      <td>0.001324</td>\n",
              "      <td>0.001214</td>\n",
              "      <td>00:00</td>\n",
              "    </tr>\n",
              "    <tr>\n",
              "      <td>26</td>\n",
              "      <td>0.001421</td>\n",
              "      <td>0.002863</td>\n",
              "      <td>00:00</td>\n",
              "    </tr>\n",
              "    <tr>\n",
              "      <td>27</td>\n",
              "      <td>0.001330</td>\n",
              "      <td>0.000698</td>\n",
              "      <td>00:00</td>\n",
              "    </tr>\n",
              "    <tr>\n",
              "      <td>28</td>\n",
              "      <td>0.001440</td>\n",
              "      <td>0.000480</td>\n",
              "      <td>00:00</td>\n",
              "    </tr>\n",
              "    <tr>\n",
              "      <td>29</td>\n",
              "      <td>0.001284</td>\n",
              "      <td>0.000952</td>\n",
              "      <td>00:00</td>\n",
              "    </tr>\n",
              "    <tr>\n",
              "      <td>30</td>\n",
              "      <td>0.001242</td>\n",
              "      <td>0.002662</td>\n",
              "      <td>00:00</td>\n",
              "    </tr>\n",
              "    <tr>\n",
              "      <td>31</td>\n",
              "      <td>0.001403</td>\n",
              "      <td>0.000943</td>\n",
              "      <td>00:00</td>\n",
              "    </tr>\n",
              "    <tr>\n",
              "      <td>32</td>\n",
              "      <td>0.001450</td>\n",
              "      <td>0.001697</td>\n",
              "      <td>00:00</td>\n",
              "    </tr>\n",
              "    <tr>\n",
              "      <td>33</td>\n",
              "      <td>0.001464</td>\n",
              "      <td>0.000981</td>\n",
              "      <td>00:00</td>\n",
              "    </tr>\n",
              "    <tr>\n",
              "      <td>34</td>\n",
              "      <td>0.001320</td>\n",
              "      <td>0.000597</td>\n",
              "      <td>00:00</td>\n",
              "    </tr>\n",
              "    <tr>\n",
              "      <td>35</td>\n",
              "      <td>0.001305</td>\n",
              "      <td>0.001222</td>\n",
              "      <td>00:00</td>\n",
              "    </tr>\n",
              "    <tr>\n",
              "      <td>36</td>\n",
              "      <td>0.001420</td>\n",
              "      <td>0.001347</td>\n",
              "      <td>00:00</td>\n",
              "    </tr>\n",
              "    <tr>\n",
              "      <td>37</td>\n",
              "      <td>0.001404</td>\n",
              "      <td>0.000996</td>\n",
              "      <td>00:00</td>\n",
              "    </tr>\n",
              "    <tr>\n",
              "      <td>38</td>\n",
              "      <td>0.001678</td>\n",
              "      <td>0.002308</td>\n",
              "      <td>00:00</td>\n",
              "    </tr>\n",
              "    <tr>\n",
              "      <td>39</td>\n",
              "      <td>0.001544</td>\n",
              "      <td>0.001058</td>\n",
              "      <td>00:00</td>\n",
              "    </tr>\n",
              "    <tr>\n",
              "      <td>40</td>\n",
              "      <td>0.001634</td>\n",
              "      <td>0.001269</td>\n",
              "      <td>00:00</td>\n",
              "    </tr>\n",
              "    <tr>\n",
              "      <td>41</td>\n",
              "      <td>0.001842</td>\n",
              "      <td>0.001078</td>\n",
              "      <td>00:00</td>\n",
              "    </tr>\n",
              "    <tr>\n",
              "      <td>42</td>\n",
              "      <td>0.001652</td>\n",
              "      <td>0.001174</td>\n",
              "      <td>00:00</td>\n",
              "    </tr>\n",
              "    <tr>\n",
              "      <td>43</td>\n",
              "      <td>0.001229</td>\n",
              "      <td>0.003237</td>\n",
              "      <td>00:00</td>\n",
              "    </tr>\n",
              "    <tr>\n",
              "      <td>44</td>\n",
              "      <td>0.001385</td>\n",
              "      <td>0.002809</td>\n",
              "      <td>00:00</td>\n",
              "    </tr>\n",
              "    <tr>\n",
              "      <td>45</td>\n",
              "      <td>0.001714</td>\n",
              "      <td>0.003370</td>\n",
              "      <td>00:00</td>\n",
              "    </tr>\n",
              "    <tr>\n",
              "      <td>46</td>\n",
              "      <td>0.001116</td>\n",
              "      <td>0.000930</td>\n",
              "      <td>00:00</td>\n",
              "    </tr>\n",
              "    <tr>\n",
              "      <td>47</td>\n",
              "      <td>0.001311</td>\n",
              "      <td>0.000695</td>\n",
              "      <td>00:00</td>\n",
              "    </tr>\n",
              "    <tr>\n",
              "      <td>48</td>\n",
              "      <td>0.001505</td>\n",
              "      <td>0.001578</td>\n",
              "      <td>00:00</td>\n",
              "    </tr>\n",
              "    <tr>\n",
              "      <td>49</td>\n",
              "      <td>0.001397</td>\n",
              "      <td>0.001987</td>\n",
              "      <td>00:00</td>\n",
              "    </tr>\n",
              "    <tr>\n",
              "      <td>50</td>\n",
              "      <td>0.001165</td>\n",
              "      <td>0.000382</td>\n",
              "      <td>00:00</td>\n",
              "    </tr>\n",
              "    <tr>\n",
              "      <td>51</td>\n",
              "      <td>0.001235</td>\n",
              "      <td>0.000274</td>\n",
              "      <td>00:00</td>\n",
              "    </tr>\n",
              "    <tr>\n",
              "      <td>52</td>\n",
              "      <td>0.001191</td>\n",
              "      <td>0.000592</td>\n",
              "      <td>00:00</td>\n",
              "    </tr>\n",
              "    <tr>\n",
              "      <td>53</td>\n",
              "      <td>0.001335</td>\n",
              "      <td>0.001313</td>\n",
              "      <td>00:00</td>\n",
              "    </tr>\n",
              "    <tr>\n",
              "      <td>54</td>\n",
              "      <td>0.001176</td>\n",
              "      <td>0.000422</td>\n",
              "      <td>00:00</td>\n",
              "    </tr>\n",
              "    <tr>\n",
              "      <td>55</td>\n",
              "      <td>0.001281</td>\n",
              "      <td>0.000768</td>\n",
              "      <td>00:00</td>\n",
              "    </tr>\n",
              "    <tr>\n",
              "      <td>56</td>\n",
              "      <td>0.001349</td>\n",
              "      <td>0.002335</td>\n",
              "      <td>00:00</td>\n",
              "    </tr>\n",
              "    <tr>\n",
              "      <td>57</td>\n",
              "      <td>0.001235</td>\n",
              "      <td>0.000647</td>\n",
              "      <td>00:00</td>\n",
              "    </tr>\n",
              "    <tr>\n",
              "      <td>58</td>\n",
              "      <td>0.001351</td>\n",
              "      <td>0.001239</td>\n",
              "      <td>00:00</td>\n",
              "    </tr>\n",
              "    <tr>\n",
              "      <td>59</td>\n",
              "      <td>0.000793</td>\n",
              "      <td>0.000659</td>\n",
              "      <td>00:00</td>\n",
              "    </tr>\n",
              "    <tr>\n",
              "      <td>60</td>\n",
              "      <td>0.000956</td>\n",
              "      <td>0.000317</td>\n",
              "      <td>00:00</td>\n",
              "    </tr>\n",
              "    <tr>\n",
              "      <td>61</td>\n",
              "      <td>0.001100</td>\n",
              "      <td>0.001211</td>\n",
              "      <td>00:00</td>\n",
              "    </tr>\n",
              "    <tr>\n",
              "      <td>62</td>\n",
              "      <td>0.000798</td>\n",
              "      <td>0.000487</td>\n",
              "      <td>00:00</td>\n",
              "    </tr>\n",
              "    <tr>\n",
              "      <td>63</td>\n",
              "      <td>0.000784</td>\n",
              "      <td>0.000649</td>\n",
              "      <td>00:00</td>\n",
              "    </tr>\n",
              "    <tr>\n",
              "      <td>64</td>\n",
              "      <td>0.000872</td>\n",
              "      <td>0.000766</td>\n",
              "      <td>00:00</td>\n",
              "    </tr>\n",
              "    <tr>\n",
              "      <td>65</td>\n",
              "      <td>0.000738</td>\n",
              "      <td>0.000550</td>\n",
              "      <td>00:00</td>\n",
              "    </tr>\n",
              "    <tr>\n",
              "      <td>66</td>\n",
              "      <td>0.000826</td>\n",
              "      <td>0.002231</td>\n",
              "      <td>00:00</td>\n",
              "    </tr>\n",
              "    <tr>\n",
              "      <td>67</td>\n",
              "      <td>0.001009</td>\n",
              "      <td>0.000494</td>\n",
              "      <td>00:00</td>\n",
              "    </tr>\n",
              "    <tr>\n",
              "      <td>68</td>\n",
              "      <td>0.000689</td>\n",
              "      <td>0.000806</td>\n",
              "      <td>00:00</td>\n",
              "    </tr>\n",
              "    <tr>\n",
              "      <td>69</td>\n",
              "      <td>0.000626</td>\n",
              "      <td>0.000955</td>\n",
              "      <td>00:00</td>\n",
              "    </tr>\n",
              "    <tr>\n",
              "      <td>70</td>\n",
              "      <td>0.000690</td>\n",
              "      <td>0.000305</td>\n",
              "      <td>00:00</td>\n",
              "    </tr>\n",
              "    <tr>\n",
              "      <td>71</td>\n",
              "      <td>0.000568</td>\n",
              "      <td>0.000671</td>\n",
              "      <td>00:00</td>\n",
              "    </tr>\n",
              "    <tr>\n",
              "      <td>72</td>\n",
              "      <td>0.000576</td>\n",
              "      <td>0.000382</td>\n",
              "      <td>00:00</td>\n",
              "    </tr>\n",
              "    <tr>\n",
              "      <td>73</td>\n",
              "      <td>0.000821</td>\n",
              "      <td>0.000548</td>\n",
              "      <td>00:00</td>\n",
              "    </tr>\n",
              "    <tr>\n",
              "      <td>74</td>\n",
              "      <td>0.000542</td>\n",
              "      <td>0.000631</td>\n",
              "      <td>00:00</td>\n",
              "    </tr>\n",
              "    <tr>\n",
              "      <td>75</td>\n",
              "      <td>0.000530</td>\n",
              "      <td>0.000582</td>\n",
              "      <td>00:00</td>\n",
              "    </tr>\n",
              "    <tr>\n",
              "      <td>76</td>\n",
              "      <td>0.000466</td>\n",
              "      <td>0.000249</td>\n",
              "      <td>00:00</td>\n",
              "    </tr>\n",
              "    <tr>\n",
              "      <td>77</td>\n",
              "      <td>0.000438</td>\n",
              "      <td>0.000260</td>\n",
              "      <td>00:00</td>\n",
              "    </tr>\n",
              "    <tr>\n",
              "      <td>78</td>\n",
              "      <td>0.000550</td>\n",
              "      <td>0.000412</td>\n",
              "      <td>00:00</td>\n",
              "    </tr>\n",
              "    <tr>\n",
              "      <td>79</td>\n",
              "      <td>0.000537</td>\n",
              "      <td>0.001295</td>\n",
              "      <td>00:00</td>\n",
              "    </tr>\n",
              "    <tr>\n",
              "      <td>80</td>\n",
              "      <td>0.000477</td>\n",
              "      <td>0.001173</td>\n",
              "      <td>00:00</td>\n",
              "    </tr>\n",
              "    <tr>\n",
              "      <td>81</td>\n",
              "      <td>0.000607</td>\n",
              "      <td>0.000446</td>\n",
              "      <td>00:00</td>\n",
              "    </tr>\n",
              "    <tr>\n",
              "      <td>82</td>\n",
              "      <td>0.000419</td>\n",
              "      <td>0.000238</td>\n",
              "      <td>00:00</td>\n",
              "    </tr>\n",
              "    <tr>\n",
              "      <td>83</td>\n",
              "      <td>0.000387</td>\n",
              "      <td>0.000847</td>\n",
              "      <td>00:00</td>\n",
              "    </tr>\n",
              "    <tr>\n",
              "      <td>84</td>\n",
              "      <td>0.000356</td>\n",
              "      <td>0.000365</td>\n",
              "      <td>00:00</td>\n",
              "    </tr>\n",
              "    <tr>\n",
              "      <td>85</td>\n",
              "      <td>0.000364</td>\n",
              "      <td>0.000316</td>\n",
              "      <td>00:00</td>\n",
              "    </tr>\n",
              "    <tr>\n",
              "      <td>86</td>\n",
              "      <td>0.000294</td>\n",
              "      <td>0.000179</td>\n",
              "      <td>00:00</td>\n",
              "    </tr>\n",
              "    <tr>\n",
              "      <td>87</td>\n",
              "      <td>0.000382</td>\n",
              "      <td>0.000243</td>\n",
              "      <td>00:00</td>\n",
              "    </tr>\n",
              "    <tr>\n",
              "      <td>88</td>\n",
              "      <td>0.000297</td>\n",
              "      <td>0.000152</td>\n",
              "      <td>00:00</td>\n",
              "    </tr>\n",
              "    <tr>\n",
              "      <td>89</td>\n",
              "      <td>0.000286</td>\n",
              "      <td>0.000158</td>\n",
              "      <td>00:00</td>\n",
              "    </tr>\n",
              "    <tr>\n",
              "      <td>90</td>\n",
              "      <td>0.000293</td>\n",
              "      <td>0.000280</td>\n",
              "      <td>00:00</td>\n",
              "    </tr>\n",
              "    <tr>\n",
              "      <td>91</td>\n",
              "      <td>0.000262</td>\n",
              "      <td>0.000167</td>\n",
              "      <td>00:00</td>\n",
              "    </tr>\n",
              "    <tr>\n",
              "      <td>92</td>\n",
              "      <td>0.000233</td>\n",
              "      <td>0.000307</td>\n",
              "      <td>00:00</td>\n",
              "    </tr>\n",
              "    <tr>\n",
              "      <td>93</td>\n",
              "      <td>0.000233</td>\n",
              "      <td>0.000151</td>\n",
              "      <td>00:00</td>\n",
              "    </tr>\n",
              "    <tr>\n",
              "      <td>94</td>\n",
              "      <td>0.000193</td>\n",
              "      <td>0.000096</td>\n",
              "      <td>00:00</td>\n",
              "    </tr>\n",
              "    <tr>\n",
              "      <td>95</td>\n",
              "      <td>0.000209</td>\n",
              "      <td>0.000173</td>\n",
              "      <td>00:00</td>\n",
              "    </tr>\n",
              "    <tr>\n",
              "      <td>96</td>\n",
              "      <td>0.000185</td>\n",
              "      <td>0.000219</td>\n",
              "      <td>00:00</td>\n",
              "    </tr>\n",
              "    <tr>\n",
              "      <td>97</td>\n",
              "      <td>0.000165</td>\n",
              "      <td>0.000205</td>\n",
              "      <td>00:00</td>\n",
              "    </tr>\n",
              "    <tr>\n",
              "      <td>98</td>\n",
              "      <td>0.000163</td>\n",
              "      <td>0.000167</td>\n",
              "      <td>00:00</td>\n",
              "    </tr>\n",
              "    <tr>\n",
              "      <td>99</td>\n",
              "      <td>0.000155</td>\n",
              "      <td>0.000125</td>\n",
              "      <td>00:00</td>\n",
              "    </tr>\n",
              "    <tr>\n",
              "      <td>100</td>\n",
              "      <td>0.000193</td>\n",
              "      <td>0.000156</td>\n",
              "      <td>00:00</td>\n",
              "    </tr>\n",
              "    <tr>\n",
              "      <td>101</td>\n",
              "      <td>0.000138</td>\n",
              "      <td>0.000114</td>\n",
              "      <td>00:00</td>\n",
              "    </tr>\n",
              "    <tr>\n",
              "      <td>102</td>\n",
              "      <td>0.000136</td>\n",
              "      <td>0.000184</td>\n",
              "      <td>00:00</td>\n",
              "    </tr>\n",
              "    <tr>\n",
              "      <td>103</td>\n",
              "      <td>0.000124</td>\n",
              "      <td>0.000118</td>\n",
              "      <td>00:00</td>\n",
              "    </tr>\n",
              "    <tr>\n",
              "      <td>104</td>\n",
              "      <td>0.000172</td>\n",
              "      <td>0.000308</td>\n",
              "      <td>00:00</td>\n",
              "    </tr>\n",
              "    <tr>\n",
              "      <td>105</td>\n",
              "      <td>0.000143</td>\n",
              "      <td>0.000088</td>\n",
              "      <td>00:00</td>\n",
              "    </tr>\n",
              "    <tr>\n",
              "      <td>106</td>\n",
              "      <td>0.000111</td>\n",
              "      <td>0.000107</td>\n",
              "      <td>00:00</td>\n",
              "    </tr>\n",
              "    <tr>\n",
              "      <td>107</td>\n",
              "      <td>0.000087</td>\n",
              "      <td>0.000073</td>\n",
              "      <td>00:00</td>\n",
              "    </tr>\n",
              "    <tr>\n",
              "      <td>108</td>\n",
              "      <td>0.000080</td>\n",
              "      <td>0.000074</td>\n",
              "      <td>00:00</td>\n",
              "    </tr>\n",
              "    <tr>\n",
              "      <td>109</td>\n",
              "      <td>0.000078</td>\n",
              "      <td>0.000143</td>\n",
              "      <td>00:00</td>\n",
              "    </tr>\n",
              "    <tr>\n",
              "      <td>110</td>\n",
              "      <td>0.000089</td>\n",
              "      <td>0.000119</td>\n",
              "      <td>00:00</td>\n",
              "    </tr>\n",
              "    <tr>\n",
              "      <td>111</td>\n",
              "      <td>0.000074</td>\n",
              "      <td>0.000075</td>\n",
              "      <td>00:00</td>\n",
              "    </tr>\n",
              "    <tr>\n",
              "      <td>112</td>\n",
              "      <td>0.000067</td>\n",
              "      <td>0.000140</td>\n",
              "      <td>00:00</td>\n",
              "    </tr>\n",
              "    <tr>\n",
              "      <td>113</td>\n",
              "      <td>0.000064</td>\n",
              "      <td>0.000075</td>\n",
              "      <td>00:00</td>\n",
              "    </tr>\n",
              "    <tr>\n",
              "      <td>114</td>\n",
              "      <td>0.000073</td>\n",
              "      <td>0.000082</td>\n",
              "      <td>00:00</td>\n",
              "    </tr>\n",
              "    <tr>\n",
              "      <td>115</td>\n",
              "      <td>0.000072</td>\n",
              "      <td>0.000117</td>\n",
              "      <td>00:00</td>\n",
              "    </tr>\n",
              "    <tr>\n",
              "      <td>116</td>\n",
              "      <td>0.000069</td>\n",
              "      <td>0.000062</td>\n",
              "      <td>00:00</td>\n",
              "    </tr>\n",
              "    <tr>\n",
              "      <td>117</td>\n",
              "      <td>0.000061</td>\n",
              "      <td>0.000072</td>\n",
              "      <td>00:00</td>\n",
              "    </tr>\n",
              "    <tr>\n",
              "      <td>118</td>\n",
              "      <td>0.000051</td>\n",
              "      <td>0.000059</td>\n",
              "      <td>00:00</td>\n",
              "    </tr>\n",
              "    <tr>\n",
              "      <td>119</td>\n",
              "      <td>0.000050</td>\n",
              "      <td>0.000057</td>\n",
              "      <td>00:00</td>\n",
              "    </tr>\n",
              "    <tr>\n",
              "      <td>120</td>\n",
              "      <td>0.000041</td>\n",
              "      <td>0.000050</td>\n",
              "      <td>00:00</td>\n",
              "    </tr>\n",
              "    <tr>\n",
              "      <td>121</td>\n",
              "      <td>0.000043</td>\n",
              "      <td>0.000055</td>\n",
              "      <td>00:00</td>\n",
              "    </tr>\n",
              "    <tr>\n",
              "      <td>122</td>\n",
              "      <td>0.000040</td>\n",
              "      <td>0.000047</td>\n",
              "      <td>00:00</td>\n",
              "    </tr>\n",
              "    <tr>\n",
              "      <td>123</td>\n",
              "      <td>0.000040</td>\n",
              "      <td>0.000054</td>\n",
              "      <td>00:00</td>\n",
              "    </tr>\n",
              "    <tr>\n",
              "      <td>124</td>\n",
              "      <td>0.000040</td>\n",
              "      <td>0.000051</td>\n",
              "      <td>00:00</td>\n",
              "    </tr>\n",
              "    <tr>\n",
              "      <td>125</td>\n",
              "      <td>0.000039</td>\n",
              "      <td>0.000046</td>\n",
              "      <td>00:00</td>\n",
              "    </tr>\n",
              "    <tr>\n",
              "      <td>126</td>\n",
              "      <td>0.000034</td>\n",
              "      <td>0.000040</td>\n",
              "      <td>00:00</td>\n",
              "    </tr>\n",
              "    <tr>\n",
              "      <td>127</td>\n",
              "      <td>0.000033</td>\n",
              "      <td>0.000042</td>\n",
              "      <td>00:00</td>\n",
              "    </tr>\n",
              "    <tr>\n",
              "      <td>128</td>\n",
              "      <td>0.000030</td>\n",
              "      <td>0.000039</td>\n",
              "      <td>00:00</td>\n",
              "    </tr>\n",
              "    <tr>\n",
              "      <td>129</td>\n",
              "      <td>0.000031</td>\n",
              "      <td>0.000038</td>\n",
              "      <td>00:00</td>\n",
              "    </tr>\n",
              "    <tr>\n",
              "      <td>130</td>\n",
              "      <td>0.000029</td>\n",
              "      <td>0.000035</td>\n",
              "      <td>00:00</td>\n",
              "    </tr>\n",
              "    <tr>\n",
              "      <td>131</td>\n",
              "      <td>0.000028</td>\n",
              "      <td>0.000039</td>\n",
              "      <td>00:00</td>\n",
              "    </tr>\n",
              "    <tr>\n",
              "      <td>132</td>\n",
              "      <td>0.000027</td>\n",
              "      <td>0.000036</td>\n",
              "      <td>00:00</td>\n",
              "    </tr>\n",
              "    <tr>\n",
              "      <td>133</td>\n",
              "      <td>0.000026</td>\n",
              "      <td>0.000033</td>\n",
              "      <td>00:00</td>\n",
              "    </tr>\n",
              "    <tr>\n",
              "      <td>134</td>\n",
              "      <td>0.000025</td>\n",
              "      <td>0.000032</td>\n",
              "      <td>00:00</td>\n",
              "    </tr>\n",
              "    <tr>\n",
              "      <td>135</td>\n",
              "      <td>0.000026</td>\n",
              "      <td>0.000032</td>\n",
              "      <td>00:00</td>\n",
              "    </tr>\n",
              "    <tr>\n",
              "      <td>136</td>\n",
              "      <td>0.000024</td>\n",
              "      <td>0.000032</td>\n",
              "      <td>00:00</td>\n",
              "    </tr>\n",
              "    <tr>\n",
              "      <td>137</td>\n",
              "      <td>0.000024</td>\n",
              "      <td>0.000036</td>\n",
              "      <td>00:00</td>\n",
              "    </tr>\n",
              "    <tr>\n",
              "      <td>138</td>\n",
              "      <td>0.000024</td>\n",
              "      <td>0.000030</td>\n",
              "      <td>00:00</td>\n",
              "    </tr>\n",
              "    <tr>\n",
              "      <td>139</td>\n",
              "      <td>0.000022</td>\n",
              "      <td>0.000030</td>\n",
              "      <td>00:00</td>\n",
              "    </tr>\n",
              "    <tr>\n",
              "      <td>140</td>\n",
              "      <td>0.000023</td>\n",
              "      <td>0.000030</td>\n",
              "      <td>00:00</td>\n",
              "    </tr>\n",
              "    <tr>\n",
              "      <td>141</td>\n",
              "      <td>0.000023</td>\n",
              "      <td>0.000029</td>\n",
              "      <td>00:00</td>\n",
              "    </tr>\n",
              "    <tr>\n",
              "      <td>142</td>\n",
              "      <td>0.000021</td>\n",
              "      <td>0.000030</td>\n",
              "      <td>00:00</td>\n",
              "    </tr>\n",
              "    <tr>\n",
              "      <td>143</td>\n",
              "      <td>0.000021</td>\n",
              "      <td>0.000029</td>\n",
              "      <td>00:00</td>\n",
              "    </tr>\n",
              "    <tr>\n",
              "      <td>144</td>\n",
              "      <td>0.000020</td>\n",
              "      <td>0.000029</td>\n",
              "      <td>00:00</td>\n",
              "    </tr>\n",
              "    <tr>\n",
              "      <td>145</td>\n",
              "      <td>0.000021</td>\n",
              "      <td>0.000029</td>\n",
              "      <td>00:00</td>\n",
              "    </tr>\n",
              "    <tr>\n",
              "      <td>146</td>\n",
              "      <td>0.000021</td>\n",
              "      <td>0.000028</td>\n",
              "      <td>00:00</td>\n",
              "    </tr>\n",
              "    <tr>\n",
              "      <td>147</td>\n",
              "      <td>0.000020</td>\n",
              "      <td>0.000028</td>\n",
              "      <td>00:00</td>\n",
              "    </tr>\n",
              "    <tr>\n",
              "      <td>148</td>\n",
              "      <td>0.000020</td>\n",
              "      <td>0.000028</td>\n",
              "      <td>00:00</td>\n",
              "    </tr>\n",
              "    <tr>\n",
              "      <td>149</td>\n",
              "      <td>0.000019</td>\n",
              "      <td>0.000028</td>\n",
              "      <td>00:00</td>\n",
              "    </tr>\n",
              "  </tbody>\n",
              "</table>"
            ],
            "text/plain": [
              "<IPython.core.display.HTML object>"
            ]
          },
          "metadata": {
            "tags": []
          }
        },
        {
          "output_type": "stream",
          "text": [
            "/usr/local/lib/python3.7/dist-packages/torch/utils/data/dataloader.py:477: UserWarning: This DataLoader will create 3 worker processes in total. Our suggested max number of worker in current system is 2, which is smaller than what this DataLoader is going to create. Please be aware that excessive worker creation might get DataLoader running slow or even freeze, lower the worker number to avoid potential slowness/freeze if necessary.\n",
            "  cpuset_checked))\n"
          ],
          "name": "stderr"
        }
      ]
    },
    {
      "cell_type": "code",
      "metadata": {
        "colab": {
          "base_uri": "https://localhost:8080/",
          "height": 282
        },
        "id": "fOAk2njB1UoK",
        "outputId": "61a14be8-32f6-4bbf-f19d-308a9f940d50"
      },
      "source": [
        "plt.plot(learn.recorder.val_losses)"
      ],
      "execution_count": null,
      "outputs": [
        {
          "output_type": "execute_result",
          "data": {
            "text/plain": [
              "[<matplotlib.lines.Line2D at 0x7febd6a53190>]"
            ]
          },
          "metadata": {
            "tags": []
          },
          "execution_count": 31
        },
        {
          "output_type": "display_data",
          "data": {
            "image/png": "[encoded data removed]",
            "text/plain": [
              "<Figure size 432x288 with 1 Axes>"
            ]
          },
          "metadata": {
            "tags": [],
            "needs_background": "light"
          }
        }
      ]
    },
    {
      "cell_type": "markdown",
      "metadata": {
        "id": "x0iZK8TH3tyN"
      },
      "source": [
        " We can clearly see the model does not overfit."
      ]
    },
    {
      "cell_type": "code",
      "metadata": {
        "id": "XY-kVFhZ2UCc"
      },
      "source": [
        "learn.save(\"AE_GivenNetworkWithSVD_v1\")"
      ],
      "execution_count": null,
      "outputs": []
    },
    {
      "cell_type": "code",
      "metadata": {
        "colab": {
          "base_uri": "https://localhost:8080/",
          "height": 166
        },
        "id": "k6nTqGB22bS5",
        "outputId": "f5c0c507-676e-48c8-b09f-42d0d2c72136"
      },
      "source": [
        "learn.lr_find()"
      ],
      "execution_count": null,
      "outputs": [
        {
          "output_type": "display_data",
          "data": {
            "text/html": [
              "\n",
              "    <div>\n",
              "        <style>\n",
              "            /* Turns off some styling */\n",
              "            progress {\n",
              "                /* gets rid of default border in Firefox and Opera. */\n",
              "                border: none;\n",
              "                /* Needs to be in here for Safari polyfill so background images work as expected. */\n",
              "                background-size: auto;\n",
              "            }\n",
              "            .progress-bar-interrupted, .progress-bar-interrupted::-webkit-progress-bar {\n",
              "                background: #F44336;\n",
              "            }\n",
              "        </style>\n",
              "      <progress value='0' class='' max='2' style='width:300px; height:20px; vertical-align: middle;'></progress>\n",
              "      0.00% [0/2 00:00<00:00]\n",
              "    </div>\n",
              "    \n",
              "<table border=\"1\" class=\"dataframe\">\n",
              "  <thead>\n",
              "    <tr style=\"text-align: left;\">\n",
              "      <th>epoch</th>\n",
              "      <th>train_loss</th>\n",
              "      <th>valid_loss</th>\n",
              "      <th>time</th>\n",
              "    </tr>\n",
              "  </thead>\n",
              "  <tbody>\n",
              "  </tbody>\n",
              "</table><p>\n",
              "\n",
              "    <div>\n",
              "        <style>\n",
              "            /* Turns off some styling */\n",
              "            progress {\n",
              "                /* gets rid of default border in Firefox and Opera. */\n",
              "                border: none;\n",
              "                /* Needs to be in here for Safari polyfill so background images work as expected. */\n",
              "                background-size: auto;\n",
              "            }\n",
              "            .progress-bar-interrupted, .progress-bar-interrupted::-webkit-progress-bar {\n",
              "                background: #F44336;\n",
              "            }\n",
              "        </style>\n",
              "      <progress value='38' class='' max='71' style='width:300px; height:20px; vertical-align: middle;'></progress>\n",
              "      53.52% [38/71 00:00<00:00 0.0000]\n",
              "    </div>\n",
              "    "
            ],
            "text/plain": [
              "<IPython.core.display.HTML object>"
            ]
          },
          "metadata": {
            "tags": []
          }
        },
        {
          "output_type": "stream",
          "text": [
            "/usr/local/lib/python3.7/dist-packages/torch/utils/data/dataloader.py:477: UserWarning: This DataLoader will create 3 worker processes in total. Our suggested max number of worker in current system is 2, which is smaller than what this DataLoader is going to create. Please be aware that excessive worker creation might get DataLoader running slow or even freeze, lower the worker number to avoid potential slowness/freeze if necessary.\n",
            "  cpuset_checked))\n"
          ],
          "name": "stderr"
        },
        {
          "output_type": "stream",
          "text": [
            "LR Finder is complete, type {learner_name}.recorder.plot() to see the graph.\n"
          ],
          "name": "stdout"
        }
      ]
    },
    {
      "cell_type": "code",
      "metadata": {
        "colab": {
          "base_uri": "https://localhost:8080/",
          "height": 290
        },
        "id": "iB9FoTRr2gDL",
        "outputId": "eb15b8ad-f8ba-4257-e6d3-ca5407fd5e81"
      },
      "source": [
        "learn.recorder.plot()"
      ],
      "execution_count": null,
      "outputs": [
        {
          "output_type": "display_data",
          "data": {
            "image/png": "[encoded data removed]",
            "text/plain": [
              "<Figure size 432x288 with 1 Axes>"
            ]
          },
          "metadata": {
            "tags": [],
            "needs_background": "light"
          }
        }
      ]
    },
    {
      "cell_type": "code",
      "metadata": {
        "colab": {
          "base_uri": "https://localhost:8080/",
          "height": 1000
        },
        "id": "tWvG0d4k2lW-",
        "outputId": "f5cccd69-0a86-41cf-e6da-39357441d9d8"
      },
      "source": [
        "learn.fit_one_cycle(30, 1e-6)"
      ],
      "execution_count": null,
      "outputs": [
        {
          "output_type": "display_data",
          "data": {
            "text/html": [
              "<table border=\"1\" class=\"dataframe\">\n",
              "  <thead>\n",
              "    <tr style=\"text-align: left;\">\n",
              "      <th>epoch</th>\n",
              "      <th>train_loss</th>\n",
              "      <th>valid_loss</th>\n",
              "      <th>time</th>\n",
              "    </tr>\n",
              "  </thead>\n",
              "  <tbody>\n",
              "    <tr>\n",
              "      <td>0</td>\n",
              "      <td>0.000020</td>\n",
              "      <td>0.000028</td>\n",
              "      <td>00:00</td>\n",
              "    </tr>\n",
              "    <tr>\n",
              "      <td>1</td>\n",
              "      <td>0.000020</td>\n",
              "      <td>0.000028</td>\n",
              "      <td>00:00</td>\n",
              "    </tr>\n",
              "    <tr>\n",
              "      <td>2</td>\n",
              "      <td>0.000020</td>\n",
              "      <td>0.000028</td>\n",
              "      <td>00:00</td>\n",
              "    </tr>\n",
              "    <tr>\n",
              "      <td>3</td>\n",
              "      <td>0.000020</td>\n",
              "      <td>0.000028</td>\n",
              "      <td>00:00</td>\n",
              "    </tr>\n",
              "    <tr>\n",
              "      <td>4</td>\n",
              "      <td>0.000020</td>\n",
              "      <td>0.000028</td>\n",
              "      <td>00:00</td>\n",
              "    </tr>\n",
              "    <tr>\n",
              "      <td>5</td>\n",
              "      <td>0.000019</td>\n",
              "      <td>0.000028</td>\n",
              "      <td>00:00</td>\n",
              "    </tr>\n",
              "    <tr>\n",
              "      <td>6</td>\n",
              "      <td>0.000020</td>\n",
              "      <td>0.000028</td>\n",
              "      <td>00:00</td>\n",
              "    </tr>\n",
              "    <tr>\n",
              "      <td>7</td>\n",
              "      <td>0.000019</td>\n",
              "      <td>0.000028</td>\n",
              "      <td>00:00</td>\n",
              "    </tr>\n",
              "    <tr>\n",
              "      <td>8</td>\n",
              "      <td>0.000020</td>\n",
              "      <td>0.000028</td>\n",
              "      <td>00:00</td>\n",
              "    </tr>\n",
              "    <tr>\n",
              "      <td>9</td>\n",
              "      <td>0.000019</td>\n",
              "      <td>0.000028</td>\n",
              "      <td>00:00</td>\n",
              "    </tr>\n",
              "    <tr>\n",
              "      <td>10</td>\n",
              "      <td>0.000020</td>\n",
              "      <td>0.000028</td>\n",
              "      <td>00:00</td>\n",
              "    </tr>\n",
              "    <tr>\n",
              "      <td>11</td>\n",
              "      <td>0.000021</td>\n",
              "      <td>0.000028</td>\n",
              "      <td>00:00</td>\n",
              "    </tr>\n",
              "    <tr>\n",
              "      <td>12</td>\n",
              "      <td>0.000021</td>\n",
              "      <td>0.000028</td>\n",
              "      <td>00:00</td>\n",
              "    </tr>\n",
              "    <tr>\n",
              "      <td>13</td>\n",
              "      <td>0.000020</td>\n",
              "      <td>0.000028</td>\n",
              "      <td>00:00</td>\n",
              "    </tr>\n",
              "    <tr>\n",
              "      <td>14</td>\n",
              "      <td>0.000020</td>\n",
              "      <td>0.000028</td>\n",
              "      <td>00:00</td>\n",
              "    </tr>\n",
              "    <tr>\n",
              "      <td>15</td>\n",
              "      <td>0.000019</td>\n",
              "      <td>0.000028</td>\n",
              "      <td>00:00</td>\n",
              "    </tr>\n",
              "    <tr>\n",
              "      <td>16</td>\n",
              "      <td>0.000019</td>\n",
              "      <td>0.000028</td>\n",
              "      <td>00:00</td>\n",
              "    </tr>\n",
              "    <tr>\n",
              "      <td>17</td>\n",
              "      <td>0.000019</td>\n",
              "      <td>0.000028</td>\n",
              "      <td>00:00</td>\n",
              "    </tr>\n",
              "    <tr>\n",
              "      <td>18</td>\n",
              "      <td>0.000020</td>\n",
              "      <td>0.000028</td>\n",
              "      <td>00:00</td>\n",
              "    </tr>\n",
              "    <tr>\n",
              "      <td>19</td>\n",
              "      <td>0.000020</td>\n",
              "      <td>0.000028</td>\n",
              "      <td>00:00</td>\n",
              "    </tr>\n",
              "    <tr>\n",
              "      <td>20</td>\n",
              "      <td>0.000020</td>\n",
              "      <td>0.000028</td>\n",
              "      <td>00:00</td>\n",
              "    </tr>\n",
              "    <tr>\n",
              "      <td>21</td>\n",
              "      <td>0.000021</td>\n",
              "      <td>0.000028</td>\n",
              "      <td>00:00</td>\n",
              "    </tr>\n",
              "    <tr>\n",
              "      <td>22</td>\n",
              "      <td>0.000019</td>\n",
              "      <td>0.000028</td>\n",
              "      <td>00:00</td>\n",
              "    </tr>\n",
              "    <tr>\n",
              "      <td>23</td>\n",
              "      <td>0.000020</td>\n",
              "      <td>0.000028</td>\n",
              "      <td>00:00</td>\n",
              "    </tr>\n",
              "    <tr>\n",
              "      <td>24</td>\n",
              "      <td>0.000019</td>\n",
              "      <td>0.000028</td>\n",
              "      <td>00:00</td>\n",
              "    </tr>\n",
              "    <tr>\n",
              "      <td>25</td>\n",
              "      <td>0.000020</td>\n",
              "      <td>0.000028</td>\n",
              "      <td>00:00</td>\n",
              "    </tr>\n",
              "    <tr>\n",
              "      <td>26</td>\n",
              "      <td>0.000020</td>\n",
              "      <td>0.000028</td>\n",
              "      <td>00:00</td>\n",
              "    </tr>\n",
              "    <tr>\n",
              "      <td>27</td>\n",
              "      <td>0.000019</td>\n",
              "      <td>0.000028</td>\n",
              "      <td>00:00</td>\n",
              "    </tr>\n",
              "    <tr>\n",
              "      <td>28</td>\n",
              "      <td>0.000020</td>\n",
              "      <td>0.000028</td>\n",
              "      <td>00:00</td>\n",
              "    </tr>\n",
              "    <tr>\n",
              "      <td>29</td>\n",
              "      <td>0.000020</td>\n",
              "      <td>0.000028</td>\n",
              "      <td>00:00</td>\n",
              "    </tr>\n",
              "  </tbody>\n",
              "</table>"
            ],
            "text/plain": [
              "<IPython.core.display.HTML object>"
            ]
          },
          "metadata": {
            "tags": []
          }
        },
        {
          "output_type": "stream",
          "text": [
            "/usr/local/lib/python3.7/dist-packages/torch/utils/data/dataloader.py:477: UserWarning: This DataLoader will create 3 worker processes in total. Our suggested max number of worker in current system is 2, which is smaller than what this DataLoader is going to create. Please be aware that excessive worker creation might get DataLoader running slow or even freeze, lower the worker number to avoid potential slowness/freeze if necessary.\n",
            "  cpuset_checked))\n"
          ],
          "name": "stderr"
        }
      ]
    },
    {
      "cell_type": "code",
      "metadata": {
        "colab": {
          "base_uri": "https://localhost:8080/",
          "height": 293
        },
        "id": "jAeFnj_D2rsU",
        "outputId": "1845560f-da2d-4f94-f10f-b8f262718262"
      },
      "source": [
        "plt.plot(learn.recorder.val_losses)"
      ],
      "execution_count": null,
      "outputs": [
        {
          "output_type": "execute_result",
          "data": {
            "text/plain": [
              "[<matplotlib.lines.Line2D at 0x7febd71b8050>]"
            ]
          },
          "metadata": {
            "tags": []
          },
          "execution_count": 38
        },
        {
          "output_type": "display_data",
          "data": {
            "image/png": "[encoded data removed]",
            "text/plain": [
              "<Figure size 432x288 with 1 Axes>"
            ]
          },
          "metadata": {
            "tags": [],
            "needs_background": "light"
          }
        }
      ]
    },
    {
      "cell_type": "markdown",
      "metadata": {
        "id": "gfQi5g404XR0"
      },
      "source": [
        "Although, the validation loss here might look like its fluctuating, but if you notice clearly the range of values is in order 10 ^ -5, which is very very less."
      ]
    },
    {
      "cell_type": "code",
      "metadata": {
        "id": "dHclv42524le"
      },
      "source": [
        "learn.save(\"AE_GivenNetworkWithSVD_v2\")"
      ],
      "execution_count": null,
      "outputs": []
    },
    {
      "cell_type": "markdown",
      "metadata": {
        "id": "nXCHfym13a8r"
      },
      "source": [
        "Validation Loss : 0.000028"
      ]
    },
    {
      "cell_type": "markdown",
      "metadata": {
        "id": "Wj6PH1Uv4wDB"
      },
      "source": [
        "# RECONSTRUCTION and COMPARISON"
      ]
    },
    {
      "cell_type": "code",
      "metadata": {
        "id": "pOZnIXBb3Dow"
      },
      "source": [
        "import os\n",
        "save_dir = \"plotOutput\"\n",
        "if not os.path.exists(save_dir):\n",
        "    os.makedirs(save_dir)"
      ],
      "execution_count": null,
      "outputs": []
    },
    {
      "cell_type": "code",
      "metadata": {
        "colab": {
          "base_uri": "https://localhost:8080/",
          "height": 1000
        },
        "id": "QQrir1zX3aZF",
        "outputId": "f83ee26c-fd34-4398-d3af-926cd3ddb874"
      },
      "source": [
        "from sklearn.decomposition import TruncatedSVD\n",
        "tsvd = TruncatedSVD()\n",
        "\n",
        "plt.close('all')\n",
        "unit_list = ['[GeV]', '[rad]', '[rad]', '[GeV]']\n",
        "variable_list = [r'$p_T$', r'$\\eta$', r'$\\phi$', r'$E$']\n",
        "line_style = ['--', '-']\n",
        "colors = ['orange', 'c']\n",
        "markers = ['*', 's']\n",
        "\n",
        "model.to('cpu')\n",
        "\n",
        "save = True# Option to save figure\n",
        "\n",
        "idxs = (0, 100000)  # Choose events to compare\n",
        "data = torch.tensor(test_x[idxs[0]:idxs[1]].values, dtype=torch.float)\n",
        "data_input = add_singular_values(test_x)\n",
        "data_input= torch.tensor(data_input.values).float()\n",
        "\n",
        "pred = model(data_input).detach().numpy()\n",
        "# data = pipeline.inverse_transform(data)\n",
        "# pred = pipeline.inverse_transform(pred)\n",
        "pred = np.multiply(pred, train_std.values)\n",
        "pred = np.add(pred, train_mean.values)\n",
        "data = np.multiply(data, train_std.values)\n",
        "data = np.add(data, train_mean.values) \n",
        "reconstructed_data = data\n",
        "reconstructed_pred = pred\n",
        "    \n",
        "alph = 0.8\n",
        "n_bins = 200\n",
        "for kk in np.arange(4):\n",
        "    plt.figure()\n",
        "    n_hist_data, bin_edges, _ = plt.hist(data[:, kk], color=colors[1], label='Input', alpha=1, bins=n_bins)\n",
        "    n_hist_pred, _, _ = plt.hist(pred[:, kk], color=colors[0], label='Output', alpha=alph, bins=bin_edges)\n",
        "    plt.suptitle(test.columns[kk])\n",
        "    plt.xlabel(test.columns[kk])\n",
        "    plt.ylabel('Number of events')\n",
        "    # ms.sciy()\n",
        "    plt.yscale('log')\n",
        "    if save:\n",
        "        plt.savefig(os.path.join(save_dir,test.columns[kk]+'.png'))\n",
        "    plt.legend()"
      ],
      "execution_count": null,
      "outputs": [
        {
          "output_type": "display_data",
          "data": {
            "image/png": "[encoded data removed]",
            "text/plain": [
              "<Figure size 432x288 with 1 Axes>"
            ]
          },
          "metadata": {
            "tags": [],
            "needs_background": "light"
          }
        },
        {
          "output_type": "display_data",
          "data": {
            "image/png": "[encoded data removed]",
            "text/plain": [
              "<Figure size 432x288 with 1 Axes>"
            ]
          },
          "metadata": {
            "tags": [],
            "needs_background": "light"
          }
        },
        {
          "output_type": "display_data",
          "data": {
            "image/png": "[encoded data removed]",
            "text/plain": [
              "<Figure size 432x288 with 1 Axes>"
            ]
          },
          "metadata": {
            "tags": [],
            "needs_background": "light"
          }
        },
        {
          "output_type": "display_data",
          "data": {
            "image/png": "[encoded data removed]",
            "text/plain": [
              "<Figure size 432x288 with 1 Axes>"
            ]
          },
          "metadata": {
            "tags": [],
            "needs_background": "light"
          }
        }
      ]
    },
    {
      "cell_type": "code",
      "metadata": {
        "colab": {
          "base_uri": "https://localhost:8080/"
        },
        "id": "dWCdKdeS5pUK",
        "outputId": "8045c675-cd86-439d-81e4-18509d7e3e5c"
      },
      "source": [
        "def getRatio(bin1,bin2):\n",
        "    bins = []\n",
        "    for b1,b2 in zip(bin1,bin2):\n",
        "        if b1==0 and b2==0:\n",
        "            bins.append(0.)\n",
        "        elif b2==0:\n",
        "            bins.append(None)\n",
        "        else:\n",
        "            bins.append((float(b2)-float(b1))/b1)\n",
        "    return bins   \n",
        "\n",
        "rat = getRatio(n_hist_data,n_hist_pred)\n",
        "print(rat)"
      ],
      "execution_count": null,
      "outputs": [
        {
          "output_type": "stream",
          "text": [
            "[-0.19047619047619047, 0.06666666666666667, 0.038461538461538464, 0.23529411764705882, -0.15, 0.0, -0.08333333333333333, 0.2, -0.06451612903225806, 0.20833333333333334, -0.16666666666666666, 0.047619047619047616, 0.0, 0.15789473684210525, -0.05, -0.03571428571428571, 0.14285714285714285, 0.0, -0.15384615384615385, 0.2, -0.21052631578947367, 0.037037037037037035, -0.1111111111111111, 0.09523809523809523, 0.08333333333333333, -0.07407407407407407, 0.0, 0.045454545454545456, 0.058823529411764705, -0.037037037037037035, 0.07317073170731707, -0.25, 0.047619047619047616, 0.041666666666666664, 0.0, -0.06451612903225806, 0.037037037037037035, -0.09090909090909091, 0.13043478260869565, 0.0, 0.041666666666666664, -0.18181818181818182, 0.25, -0.11764705882352941, 0.0, 0.041666666666666664, 0.0, -0.10714285714285714, 0.058823529411764705, -0.045454545454545456, 0.05263157894736842, 0.06451612903225806, -0.034482758620689655, 0.0, -0.13333333333333333, 0.1, -0.05263157894736842, 0.041666666666666664, -0.075, 0.22727272727272727, -0.15789473684210525, 0.041666666666666664, 0.0, 0.0, 0.16, -0.13793103448275862, 0.04, -0.038461538461538464, 0.03225806451612903, -0.043478260869565216, 0.08695652173913043, -0.037037037037037035, -0.10526315789473684, 0.08695652173913043, -0.05, 0.0, -0.07407407407407407, 0.09523809523809523, 0.0, 0.0, 0.07692307692307693, -0.07407407407407407, -0.03225806451612903, 0.2222222222222222, 0.07692307692307693, -0.2631578947368421, 0.11538461538461539, 0.05, -0.06666666666666667, 0.13636363636363635, 0.0, 0.0, -0.19230769230769232, 0.1111111111111111, -0.0625, -0.09090909090909091, 0.13043478260869565, -0.09523809523809523, 0.047619047619047616, 0.0, 0.0, 0.0, 0.07692307692307693, -0.09090909090909091, 0.0, -0.13333333333333333, 0.13043478260869565, 0.08695652173913043, -0.02564102564102564, -0.05, 0.0, 0.045454545454545456, 0.07692307692307693, -0.22727272727272727, 0.15384615384615385, -0.09090909090909091, 0.0, 0.0, -0.047619047619047616, 0.08, -0.038461538461538464, 0.06666666666666667, -0.07142857142857142, -0.11538461538461539, 0.17391304347826086, 0.0, 0.1111111111111111, -0.05263157894736842, -0.1, 0.0, 0.12, -0.07142857142857142, 0.0, 0.0, -0.16666666666666666, 0.22727272727272727, -0.05555555555555555, 0.0, 0.045454545454545456, 0.0, 0.0, -0.09090909090909091, 0.08333333333333333, 0.0, 0.05263157894736842, -0.11764705882352941, 0.05, -0.058823529411764705, 0.037037037037037035, 0.0, -0.08333333333333333, -0.034482758620689655, 0.09523809523809523, 0.0, 0.0, 0.0, 0.047619047619047616, -0.09375, 0.08, 0.0, 0.0625, -0.06896551724137931, 0.03571428571428571, 0.03333333333333333, -0.09523809523809523, 0.125, -0.0625, -0.19047619047619047, 0.030303030303030304, 0.08695652173913043, 0.030303030303030304, -0.037037037037037035, 0.0, 0.0, 0.0, 0.03225806451612903, -0.05, 0.0, -0.05555555555555555, 0.08695652173913043, 0.2, -0.17857142857142858, 0.13043478260869565, -0.03125, 0.05263157894736842, -0.08695652173913043, 0.08, -0.09523809523809523, 0.14285714285714285, -0.045454545454545456, 0.08333333333333333, -0.1111111111111111, -0.045454545454545456, 0.0, 0.0, 0.09090909090909091, 0.0, -0.11538461538461539, 0.041666666666666664, 0.0]\n"
          ],
          "name": "stdout"
        }
      ]
    },
    {
      "cell_type": "markdown",
      "metadata": {
        "id": "JpZFaRoC48__"
      },
      "source": [
        "#RESIDUAL LOSS\n",
        " \n",
        "It is ratio of change in  reconstructed/decompressed data and original data to original data. "
      ]
    },
    {
      "cell_type": "code",
      "metadata": {
        "id": "hIAFp_Eq6N17"
      },
      "source": [
        "#Plot the reconstruction loss\n",
        "def residual(data, pred):\n",
        "    \n",
        "    residual_strings = [r'$(p_{T,out} - p_{T,in}) / p_{T,in}$',\n",
        "                            r'$(\\eta_{out} - \\eta_{in}) / \\eta_{in}$',\n",
        "                            r'$(\\phi_{out} - \\phi_{in}) / \\phi_{in}$',\n",
        "                            r'$(E_{out} - E_{in}) / E_{in}$']\n",
        "    residuals = (pred - data.detach().numpy()) / data.detach().numpy() #Calculating the reconstruction loss\n",
        "    print(residuals) \n",
        "  "
      ],
      "execution_count": null,
      "outputs": []
    },
    {
      "cell_type": "code",
      "metadata": {
        "colab": {
          "base_uri": "https://localhost:8080/"
        },
        "id": "wzrA5e7FBOc4",
        "outputId": "23275de4-7251-4c14-dc44-8a12737b1772"
      },
      "source": [
        "Residual = residual(reconstructed_data, reconstructed_pred)"
      ],
      "execution_count": null,
      "outputs": [
        {
          "output_type": "stream",
          "text": [
            "[[ 1.684543e-02  6.609663e-04 -1.870755e-03  1.177066e-07]\n",
            " [-9.285829e-04  2.728535e-03  1.504100e-03 -6.906487e-04]\n",
            " [-2.930898e-03  3.139515e-04  9.989522e-04  1.240818e-02]\n",
            " [ 1.503171e-02 -1.056260e-02 -1.954353e-03 -2.820105e-04]\n",
            " ...\n",
            " [ 3.943562e-03  1.662492e-03  1.302612e-03 -4.680209e-04]\n",
            " [-1.427452e-03 -1.597289e-03 -3.337200e-03  7.714584e-04]\n",
            " [ 1.709704e-03 -1.269804e-02  2.123075e-03  1.765892e-03]\n",
            " [ 2.675278e-03 -4.337196e-04 -7.891554e-02 -4.195840e-04]]\n"
          ],
          "name": "stdout"
        }
      ]
    },
    {
      "cell_type": "code",
      "metadata": {
        "colab": {
          "base_uri": "https://localhost:8080/"
        },
        "id": "QtH2c5G68lSq",
        "outputId": "18c394bb-dd04-487c-9beb-2ad034dfc487"
      },
      "source": [
        "reconstructed_data_mean = reconstructed_data.mean()\n",
        "reconstructed_pred_mean = reconstructed_pred.mean()\n",
        "avg_residual = (reconstructed_pred_mean - reconstructed_data_mean)/reconstructed_data_mean\n",
        "print(avg_residual)\n",
        "#0.0004"
      ],
      "execution_count": null,
      "outputs": [
        {
          "output_type": "stream",
          "text": [
            "tensor(2.9843e-05, dtype=torch.float64)\n"
          ],
          "name": "stdout"
        }
      ]
    },
    {
      "cell_type": "markdown",
      "metadata": {
        "id": "Nk-UVSbt5aNN"
      },
      "source": [
        "The Residual Loss : 2.9843 e-05"
      ]
    },
    {
      "cell_type": "markdown",
      "metadata": {
        "id": "uozi2aJ05eEc"
      },
      "source": [
        "#CONCLUSION\n",
        "We successfully compressed 4 momentum jet particles to 3 particles, using data processing and deep autoencoder with a validation loss of 0.000028 and residual loss of 2.9843 e-05"
      ]
    },
    {
      "cell_type": "code",
      "metadata": {
        "id": "jB_ljxbm9Lvo"
      },
      "source": [
        ""
      ],
      "execution_count": null,
      "outputs": []
    }
  ]
}